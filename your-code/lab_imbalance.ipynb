{
 "cells": [
  {
   "cell_type": "markdown",
   "metadata": {},
   "source": [
    "# Inbalanced Classes\n",
    "## In this lab, we are going to explore a case of imbalanced classes. \n",
    "\n",
    "\n",
    "Like we disussed in class, when we have noisy data, if we are not careful, we can end up fitting our model to the noise in the data and not the 'signal'-- the factors that actually determine the outcome. This is called overfitting, and results in good results in training, and in bad results when the model is applied to real data. Similarly, we could have a model that is too simplistic to accurately model the signal. This produces a model that doesnt work well (ever). \n"
   ]
  },
  {
   "cell_type": "markdown",
   "metadata": {},
   "source": [
    "### Note: before doing the first commit, make sure you don't include the large csv file, either by adding it to .gitignore, or by deleting it."
   ]
  },
  {
   "cell_type": "markdown",
   "metadata": {},
   "source": [
    "### First, download the data from: https://www.kaggle.com/ntnu-testimon/paysim1. Import the dataset and provide some discriptive statistics and plots. What do you think will be the important features in determining the outcome?\n",
    "### Note: don't use the entire dataset, use a sample instead, with n=100000 elements, so your computer doesn't freeze."
   ]
  },
  {
   "cell_type": "code",
   "execution_count": 1,
   "metadata": {},
   "outputs": [],
   "source": [
    "import pandas as pd\n",
    "import numpy as np\n",
    "import matplotlib.pyplot as plt\n",
    "import seaborn as sns\n",
    "\n",
    "fraud = pd.read_csv(r'../fraud_detect.csv')"
   ]
  },
  {
   "cell_type": "code",
   "execution_count": 2,
   "metadata": {},
   "outputs": [
    {
     "data": {
      "text/plain": [
       "'\\nMeaning of each column:\\n\\n\\nThis is a sample of 1 row with headers explanation:\\n\\n1,PAYMENT,1060.31,C429214117,1089.0,28.69,M1591654462,0.0,0.0,0,0\\n\\nstep - maps a unit of time in the real world. In this case 1 step is 1 hour of time. Total steps 744 (30 days simulation).\\n\\ntype - CASH-IN, CASH-OUT, DEBIT, PAYMENT and TRANSFER.\\n\\namount - amount of the transaction in local currency.\\n\\nnameOrig - customer who started the transaction\\n\\noldbalanceOrg - initial balance before the transaction\\n\\nnewbalanceOrig - new balance after the transaction\\n\\nnameDest - customer who is the recipient of the transaction\\n\\noldbalanceDest - initial balance recipient before the transaction. Note that there is not information for customers that start \\nwith M (Merchants).\\n\\nnewbalanceDest - new balance recipient after the transaction. Note that there is not information for customers that start \\nwith M (Merchants).\\n\\nisFraud - This is the transactions made by the fraudulent agents inside the simulation. In this specific dataset the \\nfraudulent behavior of the agents aims to profit by taking control of customers accounts and try to empty the funds by \\ntransferring to another account and then cashing out of the system.\\n\\nisFlaggedFraud - The business model aims to control massive transfers from one account to another and flags illegal attempts. \\nAn illegal attempt in this dataset is an attempt to transfer more than 200.000 in a single transaction.\\n'"
      ]
     },
     "execution_count": 2,
     "metadata": {},
     "output_type": "execute_result"
    }
   ],
   "source": [
    "'''\n",
    "Meaning of each column:\n",
    "\n",
    "\n",
    "This is a sample of 1 row with headers explanation:\n",
    "\n",
    "1,PAYMENT,1060.31,C429214117,1089.0,28.69,M1591654462,0.0,0.0,0,0\n",
    "\n",
    "step - maps a unit of time in the real world. In this case 1 step is 1 hour of time. Total steps 744 (30 days simulation).\n",
    "\n",
    "type - CASH-IN, CASH-OUT, DEBIT, PAYMENT and TRANSFER.\n",
    "\n",
    "amount - amount of the transaction in local currency.\n",
    "\n",
    "nameOrig - customer who started the transaction\n",
    "\n",
    "oldbalanceOrg - initial balance before the transaction\n",
    "\n",
    "newbalanceOrig - new balance after the transaction\n",
    "\n",
    "nameDest - customer who is the recipient of the transaction\n",
    "\n",
    "oldbalanceDest - initial balance recipient before the transaction. Note that there is not information for customers that start \n",
    "with M (Merchants).\n",
    "\n",
    "newbalanceDest - new balance recipient after the transaction. Note that there is not information for customers that start \n",
    "with M (Merchants).\n",
    "\n",
    "isFraud - This is the transactions made by the fraudulent agents inside the simulation. In this specific dataset the \n",
    "fraudulent behavior of the agents aims to profit by taking control of customers accounts and try to empty the funds by \n",
    "transferring to another account and then cashing out of the system.\n",
    "\n",
    "isFlaggedFraud - The business model aims to control massive transfers from one account to another and flags illegal attempts. \n",
    "An illegal attempt in this dataset is an attempt to transfer more than 200.000 in a single transaction.\n",
    "'''"
   ]
  },
  {
   "cell_type": "code",
   "execution_count": 3,
   "metadata": {},
   "outputs": [
    {
     "data": {
      "text/plain": [
       "(100000, 11)"
      ]
     },
     "execution_count": 3,
     "metadata": {},
     "output_type": "execute_result"
    }
   ],
   "source": [
    "#Keeping only the first 100000 rows:\n",
    "\n",
    "fraud_sample = fraud.sample(n=100000)\n",
    "fraud_sample.shape"
   ]
  },
  {
   "cell_type": "code",
   "execution_count": 4,
   "metadata": {},
   "outputs": [
    {
     "data": {
      "text/html": [
       "<div>\n",
       "<style scoped>\n",
       "    .dataframe tbody tr th:only-of-type {\n",
       "        vertical-align: middle;\n",
       "    }\n",
       "\n",
       "    .dataframe tbody tr th {\n",
       "        vertical-align: top;\n",
       "    }\n",
       "\n",
       "    .dataframe thead th {\n",
       "        text-align: right;\n",
       "    }\n",
       "</style>\n",
       "<table border=\"1\" class=\"dataframe\">\n",
       "  <thead>\n",
       "    <tr style=\"text-align: right;\">\n",
       "      <th></th>\n",
       "      <th>step</th>\n",
       "      <th>type</th>\n",
       "      <th>amount</th>\n",
       "      <th>nameOrig</th>\n",
       "      <th>oldbalanceOrg</th>\n",
       "      <th>newbalanceOrig</th>\n",
       "      <th>nameDest</th>\n",
       "      <th>oldbalanceDest</th>\n",
       "      <th>newbalanceDest</th>\n",
       "      <th>isFraud</th>\n",
       "      <th>isFlaggedFraud</th>\n",
       "    </tr>\n",
       "  </thead>\n",
       "  <tbody>\n",
       "    <tr>\n",
       "      <th>980473</th>\n",
       "      <td>44</td>\n",
       "      <td>CASH_IN</td>\n",
       "      <td>239440.60</td>\n",
       "      <td>C2089344413</td>\n",
       "      <td>22200180.78</td>\n",
       "      <td>22439621.38</td>\n",
       "      <td>C644931594</td>\n",
       "      <td>893489.89</td>\n",
       "      <td>654049.29</td>\n",
       "      <td>0</td>\n",
       "      <td>0</td>\n",
       "    </tr>\n",
       "    <tr>\n",
       "      <th>1401078</th>\n",
       "      <td>139</td>\n",
       "      <td>CASH_OUT</td>\n",
       "      <td>298348.03</td>\n",
       "      <td>C438772830</td>\n",
       "      <td>0.00</td>\n",
       "      <td>0.00</td>\n",
       "      <td>C217227262</td>\n",
       "      <td>366020.42</td>\n",
       "      <td>664368.45</td>\n",
       "      <td>0</td>\n",
       "      <td>0</td>\n",
       "    </tr>\n",
       "    <tr>\n",
       "      <th>1454738</th>\n",
       "      <td>140</td>\n",
       "      <td>CASH_OUT</td>\n",
       "      <td>147525.36</td>\n",
       "      <td>C2010381719</td>\n",
       "      <td>0.00</td>\n",
       "      <td>0.00</td>\n",
       "      <td>C328374184</td>\n",
       "      <td>1822829.29</td>\n",
       "      <td>1970354.64</td>\n",
       "      <td>0</td>\n",
       "      <td>0</td>\n",
       "    </tr>\n",
       "    <tr>\n",
       "      <th>5319891</th>\n",
       "      <td>374</td>\n",
       "      <td>CASH_OUT</td>\n",
       "      <td>187312.99</td>\n",
       "      <td>C1049894639</td>\n",
       "      <td>20109.00</td>\n",
       "      <td>0.00</td>\n",
       "      <td>C94233257</td>\n",
       "      <td>11801.61</td>\n",
       "      <td>199114.60</td>\n",
       "      <td>0</td>\n",
       "      <td>0</td>\n",
       "    </tr>\n",
       "    <tr>\n",
       "      <th>1159390</th>\n",
       "      <td>131</td>\n",
       "      <td>CASH_IN</td>\n",
       "      <td>21558.16</td>\n",
       "      <td>C1317864012</td>\n",
       "      <td>10340.00</td>\n",
       "      <td>31898.16</td>\n",
       "      <td>C181164250</td>\n",
       "      <td>494591.92</td>\n",
       "      <td>473033.77</td>\n",
       "      <td>0</td>\n",
       "      <td>0</td>\n",
       "    </tr>\n",
       "  </tbody>\n",
       "</table>\n",
       "</div>"
      ],
      "text/plain": [
       "         step      type     amount     nameOrig  oldbalanceOrg  \\\n",
       "980473     44   CASH_IN  239440.60  C2089344413    22200180.78   \n",
       "1401078   139  CASH_OUT  298348.03   C438772830           0.00   \n",
       "1454738   140  CASH_OUT  147525.36  C2010381719           0.00   \n",
       "5319891   374  CASH_OUT  187312.99  C1049894639       20109.00   \n",
       "1159390   131   CASH_IN   21558.16  C1317864012       10340.00   \n",
       "\n",
       "         newbalanceOrig    nameDest  oldbalanceDest  newbalanceDest  isFraud  \\\n",
       "980473      22439621.38  C644931594       893489.89       654049.29        0   \n",
       "1401078            0.00  C217227262       366020.42       664368.45        0   \n",
       "1454738            0.00  C328374184      1822829.29      1970354.64        0   \n",
       "5319891            0.00   C94233257        11801.61       199114.60        0   \n",
       "1159390        31898.16  C181164250       494591.92       473033.77        0   \n",
       "\n",
       "         isFlaggedFraud  \n",
       "980473                0  \n",
       "1401078               0  \n",
       "1454738               0  \n",
       "5319891               0  \n",
       "1159390               0  "
      ]
     },
     "execution_count": 4,
     "metadata": {},
     "output_type": "execute_result"
    }
   ],
   "source": [
    "fraud_sample.head()"
   ]
  },
  {
   "cell_type": "code",
   "execution_count": 5,
   "metadata": {},
   "outputs": [
    {
     "name": "stdout",
     "output_type": "stream",
     "text": [
      "<class 'pandas.core.frame.DataFrame'>\n",
      "Int64Index: 100000 entries, 980473 to 5867503\n",
      "Data columns (total 11 columns):\n",
      " #   Column          Non-Null Count   Dtype  \n",
      "---  ------          --------------   -----  \n",
      " 0   step            100000 non-null  int64  \n",
      " 1   type            100000 non-null  object \n",
      " 2   amount          100000 non-null  float64\n",
      " 3   nameOrig        100000 non-null  object \n",
      " 4   oldbalanceOrg   100000 non-null  float64\n",
      " 5   newbalanceOrig  100000 non-null  float64\n",
      " 6   nameDest        100000 non-null  object \n",
      " 7   oldbalanceDest  100000 non-null  float64\n",
      " 8   newbalanceDest  100000 non-null  float64\n",
      " 9   isFraud         100000 non-null  int64  \n",
      " 10  isFlaggedFraud  100000 non-null  int64  \n",
      "dtypes: float64(5), int64(3), object(3)\n",
      "memory usage: 9.2+ MB\n"
     ]
    }
   ],
   "source": [
    "#Descriptive statistics:\n",
    "\n",
    "fraud_sample.info()\n",
    "#Apparently there are no null values in all columns."
   ]
  },
  {
   "cell_type": "code",
   "execution_count": 6,
   "metadata": {},
   "outputs": [
    {
     "data": {
      "text/html": [
       "<div>\n",
       "<style scoped>\n",
       "    .dataframe tbody tr th:only-of-type {\n",
       "        vertical-align: middle;\n",
       "    }\n",
       "\n",
       "    .dataframe tbody tr th {\n",
       "        vertical-align: top;\n",
       "    }\n",
       "\n",
       "    .dataframe thead th {\n",
       "        text-align: right;\n",
       "    }\n",
       "</style>\n",
       "<table border=\"1\" class=\"dataframe\">\n",
       "  <thead>\n",
       "    <tr style=\"text-align: right;\">\n",
       "      <th></th>\n",
       "      <th>step</th>\n",
       "      <th>amount</th>\n",
       "      <th>oldbalanceOrg</th>\n",
       "      <th>newbalanceOrig</th>\n",
       "      <th>oldbalanceDest</th>\n",
       "      <th>newbalanceDest</th>\n",
       "      <th>isFraud</th>\n",
       "      <th>isFlaggedFraud</th>\n",
       "    </tr>\n",
       "  </thead>\n",
       "  <tbody>\n",
       "    <tr>\n",
       "      <th>count</th>\n",
       "      <td>100000.00000</td>\n",
       "      <td>1.000000e+05</td>\n",
       "      <td>1.000000e+05</td>\n",
       "      <td>1.000000e+05</td>\n",
       "      <td>1.000000e+05</td>\n",
       "      <td>1.000000e+05</td>\n",
       "      <td>100000.000000</td>\n",
       "      <td>100000.0</td>\n",
       "    </tr>\n",
       "    <tr>\n",
       "      <th>mean</th>\n",
       "      <td>243.31683</td>\n",
       "      <td>1.823385e+05</td>\n",
       "      <td>8.362503e+05</td>\n",
       "      <td>8.579324e+05</td>\n",
       "      <td>1.102253e+06</td>\n",
       "      <td>1.227300e+06</td>\n",
       "      <td>0.001290</td>\n",
       "      <td>0.0</td>\n",
       "    </tr>\n",
       "    <tr>\n",
       "      <th>std</th>\n",
       "      <td>142.31864</td>\n",
       "      <td>6.896326e+05</td>\n",
       "      <td>2.883859e+06</td>\n",
       "      <td>2.919700e+06</td>\n",
       "      <td>3.271284e+06</td>\n",
       "      <td>3.620646e+06</td>\n",
       "      <td>0.035894</td>\n",
       "      <td>0.0</td>\n",
       "    </tr>\n",
       "    <tr>\n",
       "      <th>min</th>\n",
       "      <td>1.00000</td>\n",
       "      <td>2.300000e-01</td>\n",
       "      <td>0.000000e+00</td>\n",
       "      <td>0.000000e+00</td>\n",
       "      <td>0.000000e+00</td>\n",
       "      <td>0.000000e+00</td>\n",
       "      <td>0.000000</td>\n",
       "      <td>0.0</td>\n",
       "    </tr>\n",
       "    <tr>\n",
       "      <th>25%</th>\n",
       "      <td>156.00000</td>\n",
       "      <td>1.335603e+04</td>\n",
       "      <td>0.000000e+00</td>\n",
       "      <td>0.000000e+00</td>\n",
       "      <td>0.000000e+00</td>\n",
       "      <td>0.000000e+00</td>\n",
       "      <td>0.000000</td>\n",
       "      <td>0.0</td>\n",
       "    </tr>\n",
       "    <tr>\n",
       "      <th>50%</th>\n",
       "      <td>238.00000</td>\n",
       "      <td>7.428338e+04</td>\n",
       "      <td>1.476550e+04</td>\n",
       "      <td>0.000000e+00</td>\n",
       "      <td>1.303947e+05</td>\n",
       "      <td>2.105612e+05</td>\n",
       "      <td>0.000000</td>\n",
       "      <td>0.0</td>\n",
       "    </tr>\n",
       "    <tr>\n",
       "      <th>75%</th>\n",
       "      <td>334.00000</td>\n",
       "      <td>2.076241e+05</td>\n",
       "      <td>1.084107e+05</td>\n",
       "      <td>1.493544e+05</td>\n",
       "      <td>9.378787e+05</td>\n",
       "      <td>1.099143e+06</td>\n",
       "      <td>0.000000</td>\n",
       "      <td>0.0</td>\n",
       "    </tr>\n",
       "    <tr>\n",
       "      <th>max</th>\n",
       "      <td>736.00000</td>\n",
       "      <td>6.676127e+07</td>\n",
       "      <td>3.157304e+07</td>\n",
       "      <td>3.182947e+07</td>\n",
       "      <td>1.587039e+08</td>\n",
       "      <td>2.362512e+08</td>\n",
       "      <td>1.000000</td>\n",
       "      <td>0.0</td>\n",
       "    </tr>\n",
       "  </tbody>\n",
       "</table>\n",
       "</div>"
      ],
      "text/plain": [
       "               step        amount  oldbalanceOrg  newbalanceOrig  \\\n",
       "count  100000.00000  1.000000e+05   1.000000e+05    1.000000e+05   \n",
       "mean      243.31683  1.823385e+05   8.362503e+05    8.579324e+05   \n",
       "std       142.31864  6.896326e+05   2.883859e+06    2.919700e+06   \n",
       "min         1.00000  2.300000e-01   0.000000e+00    0.000000e+00   \n",
       "25%       156.00000  1.335603e+04   0.000000e+00    0.000000e+00   \n",
       "50%       238.00000  7.428338e+04   1.476550e+04    0.000000e+00   \n",
       "75%       334.00000  2.076241e+05   1.084107e+05    1.493544e+05   \n",
       "max       736.00000  6.676127e+07   3.157304e+07    3.182947e+07   \n",
       "\n",
       "       oldbalanceDest  newbalanceDest        isFraud  isFlaggedFraud  \n",
       "count    1.000000e+05    1.000000e+05  100000.000000        100000.0  \n",
       "mean     1.102253e+06    1.227300e+06       0.001290             0.0  \n",
       "std      3.271284e+06    3.620646e+06       0.035894             0.0  \n",
       "min      0.000000e+00    0.000000e+00       0.000000             0.0  \n",
       "25%      0.000000e+00    0.000000e+00       0.000000             0.0  \n",
       "50%      1.303947e+05    2.105612e+05       0.000000             0.0  \n",
       "75%      9.378787e+05    1.099143e+06       0.000000             0.0  \n",
       "max      1.587039e+08    2.362512e+08       1.000000             0.0  "
      ]
     },
     "execution_count": 6,
     "metadata": {},
     "output_type": "execute_result"
    }
   ],
   "source": [
    "fraud_sample.describe()"
   ]
  },
  {
   "cell_type": "code",
   "execution_count": 7,
   "metadata": {},
   "outputs": [
    {
     "data": {
      "text/plain": [
       "0    99871\n",
       "1      129\n",
       "Name: isFraud, dtype: int64"
      ]
     },
     "execution_count": 7,
     "metadata": {},
     "output_type": "execute_result"
    }
   ],
   "source": [
    "#Number of frauds in the dataset:\n",
    "\n",
    "fraud_sample['isFraud'].value_counts()\n",
    "\n",
    "#Apparently we have only 126 frauds in a total of 100k rows. High class imbalance."
   ]
  },
  {
   "cell_type": "code",
   "execution_count": 8,
   "metadata": {},
   "outputs": [
    {
     "data": {
      "text/plain": [
       "0    100000\n",
       "Name: isFlaggedFraud, dtype: int64"
      ]
     },
     "execution_count": 8,
     "metadata": {},
     "output_type": "execute_result"
    }
   ],
   "source": [
    "#Same for the flagged frauds:\n",
    "\n",
    "fraud_sample['isFlaggedFraud'].value_counts()\n",
    "\n",
    "#There are no flagged frauds, which means that there were no attempts to transfer more than 200.000 in a single transaction.\n",
    "#Also high class imbalance"
   ]
  },
  {
   "cell_type": "code",
   "execution_count": 9,
   "metadata": {},
   "outputs": [
    {
     "data": {
      "text/plain": [
       "CASH_OUT    34899\n",
       "PAYMENT     33810\n",
       "CASH_IN     22247\n",
       "TRANSFER     8386\n",
       "DEBIT         658\n",
       "Name: type, dtype: int64"
      ]
     },
     "execution_count": 9,
     "metadata": {},
     "output_type": "execute_result"
    }
   ],
   "source": [
    "#Number of transactions per each type of payment:\n",
    "\n",
    "fraud_sample['type'].value_counts()\n",
    "\n",
    "#Again, we can see class imbalance."
   ]
  },
  {
   "cell_type": "code",
   "execution_count": 10,
   "metadata": {},
   "outputs": [
    {
     "data": {
      "image/png": "[encoded data removed]",
      "text/plain": [
       "<Figure size 576x432 with 1 Axes>"
      ]
     },
     "metadata": {
      "needs_background": "light"
     },
     "output_type": "display_data"
    }
   ],
   "source": [
    "#Bar plots are good to see the class imbalance of the fraud/not fraud and isflaggedfraud/is not flaggedfraud:\n",
    "fig = plt.figure(figsize = (8,6))\n",
    "fraud_sample['type'].value_counts().plot.bar(ylim = 0)\n",
    "plt.show()"
   ]
  },
  {
   "cell_type": "code",
   "execution_count": 11,
   "metadata": {
    "scrolled": true
   },
   "outputs": [
    {
     "data": {
      "image/png": "[encoded data removed]",
      "text/plain": [
       "<Figure size 576x432 with 1 Axes>"
      ]
     },
     "metadata": {
      "needs_background": "light"
     },
     "output_type": "display_data"
    }
   ],
   "source": [
    "fig = plt.figure(figsize = (8,6))\n",
    "fraud_sample['isFraud'].value_counts().plot.bar(ylim = 0)\n",
    "plt.show()"
   ]
  },
  {
   "cell_type": "code",
   "execution_count": 12,
   "metadata": {
    "scrolled": true
   },
   "outputs": [
    {
     "data": {
      "image/png": "[encoded data removed]",
      "text/plain": [
       "<Figure size 576x432 with 1 Axes>"
      ]
     },
     "metadata": {
      "needs_background": "light"
     },
     "output_type": "display_data"
    }
   ],
   "source": [
    "fig = plt.figure(figsize = (8,6))\n",
    "fraud_sample['isFlaggedFraud'].value_counts().plot.bar(ylim = 0)\n",
    "plt.show()"
   ]
  },
  {
   "cell_type": "markdown",
   "metadata": {},
   "source": [
    "### What is the distribution of the outcome? "
   ]
  },
  {
   "cell_type": "code",
   "execution_count": 13,
   "metadata": {},
   "outputs": [
    {
     "data": {
      "text/plain": [
       "0    99871\n",
       "1      129\n",
       "Name: isFraud, dtype: int64"
      ]
     },
     "execution_count": 13,
     "metadata": {},
     "output_type": "execute_result"
    }
   ],
   "source": [
    "#Number of frauds in the dataset:\n",
    "\n",
    "fraud_sample['isFraud'].value_counts()\n",
    "\n",
    "#Apparently we have only 116 frauds in a total of 100k rows. High class imbalance."
   ]
  },
  {
   "cell_type": "code",
   "execution_count": 14,
   "metadata": {
    "scrolled": true
   },
   "outputs": [
    {
     "data": {
      "image/png": "[encoded data removed]",
      "text/plain": [
       "<Figure size 576x432 with 1 Axes>"
      ]
     },
     "metadata": {
      "needs_background": "light"
     },
     "output_type": "display_data"
    }
   ],
   "source": [
    "fig = plt.figure(figsize = (8,6))\n",
    "fraud_sample['isFraud'].value_counts().plot.bar(ylim = 0)\n",
    "plt.show()"
   ]
  },
  {
   "cell_type": "markdown",
   "metadata": {},
   "source": [
    "### Clean the dataset. How are you going to integrate the time variable? Do you think the step (integer) coding in which it is given is appropriate?"
   ]
  },
  {
   "cell_type": "code",
   "execution_count": 15,
   "metadata": {},
   "outputs": [
    {
     "data": {
      "text/plain": [
       "array([ 44, 139, 140, 374, 131, 208, 332, 326, 180, 249, 136, 190, 686,\n",
       "       279, 370, 211, 141,  10,  11, 284,  39, 323, 178, 288, 401, 352,\n",
       "       184, 393, 358, 163,  19, 303, 159, 186,  20, 130, 335, 225, 286,\n",
       "       260, 347, 281, 156, 181, 182, 157, 134, 404, 276,  47, 373, 158,\n",
       "       205, 396,  18, 514,  21, 258, 210, 300, 301, 204, 237, 565,  12,\n",
       "       692,  33, 297,  35, 209, 573, 397,  15, 189, 164, 328, 160, 138,\n",
       "       327, 353, 307,   9, 252, 356, 330, 500, 275,  42, 206, 322, 167,\n",
       "       212, 238, 282, 250, 423, 129,  14,  36, 331, 522, 142,  17, 277,\n",
       "       400, 135, 379, 357, 681,  43, 637, 231, 165, 349, 298,  38, 285,\n",
       "       253, 564, 233, 207, 179, 360, 306, 256,  45, 274, 378, 354, 230,\n",
       "       371,  41, 381, 228, 203, 120,  95, 234,  16, 188, 214, 154, 403,\n",
       "       350, 544, 309, 588, 227, 236, 399,  13, 280, 383, 251, 394, 348,\n",
       "       355, 177, 133, 283, 161, 191, 169, 599, 229,  37, 308, 289,  46,\n",
       "       310, 235, 548, 372, 376, 398, 153, 640, 380, 455, 187, 345, 155,\n",
       "       162, 642, 183, 278, 334,  23, 259, 408, 257, 351,  94,  40, 304,\n",
       "       299, 369, 567, 361, 201, 538, 232, 346, 185, 273, 621, 254, 329,\n",
       "       520, 321, 608, 382,  34, 405, 402, 333, 264, 132, 262, 406, 137,\n",
       "       495, 312, 596,  26, 525,  96, 324, 589,  48, 476, 213, 302, 305,\n",
       "       202, 377,  22, 385, 407, 313, 590, 691, 395, 261, 545, 609, 325,\n",
       "       226, 687, 566, 255, 542, 375, 166, 428, 546, 478, 263, 416, 239,\n",
       "       336, 215, 688, 420, 490, 338, 592, 612, 240, 683, 667,  24, 550,\n",
       "       664, 617, 474, 597, 524, 594, 419, 436, 119, 527, 193, 479, 144,\n",
       "       684, 194,  93, 426, 540, 576, 661, 503,   7, 569,   8,  97, 571,\n",
       "       547,   4, 709, 170, 311, 705, 715, 712, 469, 694, 649, 518, 192,\n",
       "       449, 217, 265, 656, 584, 492, 587, 582, 143, 570, 659, 287, 216,\n",
       "       690, 241, 710, 531, 526,   6, 451, 359, 549,   2, 717, 384, 601,\n",
       "       431, 552, 458, 644, 614, 595, 574, 563, 471, 718, 619, 122, 670,\n",
       "         1, 598, 534, 242,  25, 195, 168, 505, 146, 266, 586, 448, 429,\n",
       "       502, 610, 413, 386, 528, 630, 337, 491, 551, 145, 487, 466,  49,\n",
       "       578, 445, 517, 530, 422, 672, 439, 707, 669, 695, 697, 121, 493,\n",
       "       472, 496, 314, 675, 442,   3, 606, 452, 622, 714, 128, 409, 585,\n",
       "       290, 317, 362, 577, 460, 607, 730, 483, 102,   5, 438, 701, 291,\n",
       "        81, 105, 716, 555, 673, 501, 509,  98, 147, 414, 172, 390, 114,\n",
       "       125, 391, 650, 363, 516, 110, 603, 736, 497, 733, 720, 269, 224,\n",
       "       498,  71, 176,  65, 200, 104, 221, 541, 655, 450, 553, 641,  67,\n",
       "        87, 388, 116, 702, 271], dtype=int64)"
      ]
     },
     "execution_count": 15,
     "metadata": {},
     "output_type": "execute_result"
    }
   ],
   "source": [
    "fraud_sample['step'].unique()"
   ]
  },
  {
   "cell_type": "code",
   "execution_count": 16,
   "metadata": {},
   "outputs": [
    {
     "data": {
      "text/plain": [
       "array([ 1,  5, 15,  8, 13,  7, 10, 28, 11,  0, 12, 16, 14,  6,  9, 21, 23,\n",
       "       20, 17, 26,  3, 22, 24, 18, 25,  4,  2, 19, 27, 29, 30])"
      ]
     },
     "execution_count": 16,
     "metadata": {},
     "output_type": "execute_result"
    }
   ],
   "source": [
    "# It may be better to change it into days, for example, so we don't have a lot of unique values.\n",
    "\n",
    "fraud_sample['step'] = (fraud_sample['step']/24).astype(int)\n",
    "fraud_sample['step'].unique() #different days"
   ]
  },
  {
   "cell_type": "code",
   "execution_count": 17,
   "metadata": {},
   "outputs": [
    {
     "data": {
      "text/plain": [
       "(100000, 11)"
      ]
     },
     "execution_count": 17,
     "metadata": {},
     "output_type": "execute_result"
    }
   ],
   "source": [
    "fraud_sample.shape\n",
    "\n",
    "#Done"
   ]
  },
  {
   "cell_type": "code",
   "execution_count": 18,
   "metadata": {},
   "outputs": [
    {
     "data": {
      "text/html": [
       "<div>\n",
       "<style scoped>\n",
       "    .dataframe tbody tr th:only-of-type {\n",
       "        vertical-align: middle;\n",
       "    }\n",
       "\n",
       "    .dataframe tbody tr th {\n",
       "        vertical-align: top;\n",
       "    }\n",
       "\n",
       "    .dataframe thead th {\n",
       "        text-align: right;\n",
       "    }\n",
       "</style>\n",
       "<table border=\"1\" class=\"dataframe\">\n",
       "  <thead>\n",
       "    <tr style=\"text-align: right;\">\n",
       "      <th></th>\n",
       "      <th>step</th>\n",
       "      <th>type</th>\n",
       "      <th>amount</th>\n",
       "      <th>oldbalanceOrg</th>\n",
       "      <th>newbalanceOrig</th>\n",
       "      <th>oldbalanceDest</th>\n",
       "      <th>newbalanceDest</th>\n",
       "      <th>isFraud</th>\n",
       "    </tr>\n",
       "  </thead>\n",
       "  <tbody>\n",
       "    <tr>\n",
       "      <th>980473</th>\n",
       "      <td>1</td>\n",
       "      <td>CASH_IN</td>\n",
       "      <td>239440.60</td>\n",
       "      <td>22200180.78</td>\n",
       "      <td>22439621.38</td>\n",
       "      <td>893489.89</td>\n",
       "      <td>654049.29</td>\n",
       "      <td>0</td>\n",
       "    </tr>\n",
       "    <tr>\n",
       "      <th>1401078</th>\n",
       "      <td>5</td>\n",
       "      <td>CASH_OUT</td>\n",
       "      <td>298348.03</td>\n",
       "      <td>0.00</td>\n",
       "      <td>0.00</td>\n",
       "      <td>366020.42</td>\n",
       "      <td>664368.45</td>\n",
       "      <td>0</td>\n",
       "    </tr>\n",
       "    <tr>\n",
       "      <th>1454738</th>\n",
       "      <td>5</td>\n",
       "      <td>CASH_OUT</td>\n",
       "      <td>147525.36</td>\n",
       "      <td>0.00</td>\n",
       "      <td>0.00</td>\n",
       "      <td>1822829.29</td>\n",
       "      <td>1970354.64</td>\n",
       "      <td>0</td>\n",
       "    </tr>\n",
       "    <tr>\n",
       "      <th>5319891</th>\n",
       "      <td>15</td>\n",
       "      <td>CASH_OUT</td>\n",
       "      <td>187312.99</td>\n",
       "      <td>20109.00</td>\n",
       "      <td>0.00</td>\n",
       "      <td>11801.61</td>\n",
       "      <td>199114.60</td>\n",
       "      <td>0</td>\n",
       "    </tr>\n",
       "    <tr>\n",
       "      <th>1159390</th>\n",
       "      <td>5</td>\n",
       "      <td>CASH_IN</td>\n",
       "      <td>21558.16</td>\n",
       "      <td>10340.00</td>\n",
       "      <td>31898.16</td>\n",
       "      <td>494591.92</td>\n",
       "      <td>473033.77</td>\n",
       "      <td>0</td>\n",
       "    </tr>\n",
       "  </tbody>\n",
       "</table>\n",
       "</div>"
      ],
      "text/plain": [
       "         step      type     amount  oldbalanceOrg  newbalanceOrig  \\\n",
       "980473      1   CASH_IN  239440.60    22200180.78     22439621.38   \n",
       "1401078     5  CASH_OUT  298348.03           0.00            0.00   \n",
       "1454738     5  CASH_OUT  147525.36           0.00            0.00   \n",
       "5319891    15  CASH_OUT  187312.99       20109.00            0.00   \n",
       "1159390     5   CASH_IN   21558.16       10340.00        31898.16   \n",
       "\n",
       "         oldbalanceDest  newbalanceDest  isFraud  \n",
       "980473        893489.89       654049.29        0  \n",
       "1401078       366020.42       664368.45        0  \n",
       "1454738      1822829.29      1970354.64        0  \n",
       "5319891        11801.61       199114.60        0  \n",
       "1159390       494591.92       473033.77        0  "
      ]
     },
     "execution_count": 18,
     "metadata": {},
     "output_type": "execute_result"
    }
   ],
   "source": [
    "#To continue cleaning the dataset, I will drop columns that aren't important, like the name of the customers, and the flagged frauds.\n",
    "#The flagged frauds do not add anything interesting.\n",
    "\n",
    "fraud_sample = fraud_sample.drop(['nameOrig', 'nameDest', 'isFlaggedFraud'], axis = 1)\n",
    "fraud_sample.head()"
   ]
  },
  {
   "cell_type": "code",
   "execution_count": 19,
   "metadata": {},
   "outputs": [
    {
     "name": "stdout",
     "output_type": "stream",
     "text": [
      "<class 'pandas.core.frame.DataFrame'>\n",
      "Int64Index: 100000 entries, 980473 to 5867503\n",
      "Data columns (total 8 columns):\n",
      " #   Column          Non-Null Count   Dtype  \n",
      "---  ------          --------------   -----  \n",
      " 0   step            100000 non-null  int32  \n",
      " 1   type            100000 non-null  object \n",
      " 2   amount          100000 non-null  float64\n",
      " 3   oldbalanceOrg   100000 non-null  float64\n",
      " 4   newbalanceOrig  100000 non-null  float64\n",
      " 5   oldbalanceDest  100000 non-null  float64\n",
      " 6   newbalanceDest  100000 non-null  float64\n",
      " 7   isFraud         100000 non-null  int64  \n",
      "dtypes: float64(5), int32(1), int64(1), object(1)\n",
      "memory usage: 6.5+ MB\n"
     ]
    }
   ],
   "source": [
    "fraud_sample.info()\n",
    "#Everything is ok, so I will proceed to create dummies for the models."
   ]
  },
  {
   "cell_type": "code",
   "execution_count": 20,
   "metadata": {},
   "outputs": [
    {
     "data": {
      "text/plain": [
       "(100000, 8)"
      ]
     },
     "execution_count": 20,
     "metadata": {},
     "output_type": "execute_result"
    }
   ],
   "source": [
    "fraud_sample.shape"
   ]
  },
  {
   "cell_type": "code",
   "execution_count": 21,
   "metadata": {},
   "outputs": [
    {
     "data": {
      "text/html": [
       "<div>\n",
       "<style scoped>\n",
       "    .dataframe tbody tr th:only-of-type {\n",
       "        vertical-align: middle;\n",
       "    }\n",
       "\n",
       "    .dataframe tbody tr th {\n",
       "        vertical-align: top;\n",
       "    }\n",
       "\n",
       "    .dataframe thead th {\n",
       "        text-align: right;\n",
       "    }\n",
       "</style>\n",
       "<table border=\"1\" class=\"dataframe\">\n",
       "  <thead>\n",
       "    <tr style=\"text-align: right;\">\n",
       "      <th></th>\n",
       "      <th>step</th>\n",
       "      <th>amount</th>\n",
       "      <th>oldbalanceOrg</th>\n",
       "      <th>newbalanceOrig</th>\n",
       "      <th>oldbalanceDest</th>\n",
       "      <th>newbalanceDest</th>\n",
       "      <th>isFraud</th>\n",
       "      <th>type_CASH_IN</th>\n",
       "      <th>type_CASH_OUT</th>\n",
       "      <th>type_DEBIT</th>\n",
       "      <th>type_PAYMENT</th>\n",
       "      <th>type_TRANSFER</th>\n",
       "    </tr>\n",
       "  </thead>\n",
       "  <tbody>\n",
       "    <tr>\n",
       "      <th>980473</th>\n",
       "      <td>1</td>\n",
       "      <td>239440.60</td>\n",
       "      <td>22200180.78</td>\n",
       "      <td>22439621.38</td>\n",
       "      <td>893489.89</td>\n",
       "      <td>654049.29</td>\n",
       "      <td>0</td>\n",
       "      <td>1</td>\n",
       "      <td>0</td>\n",
       "      <td>0</td>\n",
       "      <td>0</td>\n",
       "      <td>0</td>\n",
       "    </tr>\n",
       "    <tr>\n",
       "      <th>1401078</th>\n",
       "      <td>5</td>\n",
       "      <td>298348.03</td>\n",
       "      <td>0.00</td>\n",
       "      <td>0.00</td>\n",
       "      <td>366020.42</td>\n",
       "      <td>664368.45</td>\n",
       "      <td>0</td>\n",
       "      <td>0</td>\n",
       "      <td>1</td>\n",
       "      <td>0</td>\n",
       "      <td>0</td>\n",
       "      <td>0</td>\n",
       "    </tr>\n",
       "    <tr>\n",
       "      <th>1454738</th>\n",
       "      <td>5</td>\n",
       "      <td>147525.36</td>\n",
       "      <td>0.00</td>\n",
       "      <td>0.00</td>\n",
       "      <td>1822829.29</td>\n",
       "      <td>1970354.64</td>\n",
       "      <td>0</td>\n",
       "      <td>0</td>\n",
       "      <td>1</td>\n",
       "      <td>0</td>\n",
       "      <td>0</td>\n",
       "      <td>0</td>\n",
       "    </tr>\n",
       "    <tr>\n",
       "      <th>5319891</th>\n",
       "      <td>15</td>\n",
       "      <td>187312.99</td>\n",
       "      <td>20109.00</td>\n",
       "      <td>0.00</td>\n",
       "      <td>11801.61</td>\n",
       "      <td>199114.60</td>\n",
       "      <td>0</td>\n",
       "      <td>0</td>\n",
       "      <td>1</td>\n",
       "      <td>0</td>\n",
       "      <td>0</td>\n",
       "      <td>0</td>\n",
       "    </tr>\n",
       "    <tr>\n",
       "      <th>1159390</th>\n",
       "      <td>5</td>\n",
       "      <td>21558.16</td>\n",
       "      <td>10340.00</td>\n",
       "      <td>31898.16</td>\n",
       "      <td>494591.92</td>\n",
       "      <td>473033.77</td>\n",
       "      <td>0</td>\n",
       "      <td>1</td>\n",
       "      <td>0</td>\n",
       "      <td>0</td>\n",
       "      <td>0</td>\n",
       "      <td>0</td>\n",
       "    </tr>\n",
       "  </tbody>\n",
       "</table>\n",
       "</div>"
      ],
      "text/plain": [
       "         step     amount  oldbalanceOrg  newbalanceOrig  oldbalanceDest  \\\n",
       "980473      1  239440.60    22200180.78     22439621.38       893489.89   \n",
       "1401078     5  298348.03           0.00            0.00       366020.42   \n",
       "1454738     5  147525.36           0.00            0.00      1822829.29   \n",
       "5319891    15  187312.99       20109.00            0.00        11801.61   \n",
       "1159390     5   21558.16       10340.00        31898.16       494591.92   \n",
       "\n",
       "         newbalanceDest  isFraud  type_CASH_IN  type_CASH_OUT  type_DEBIT  \\\n",
       "980473        654049.29        0             1              0           0   \n",
       "1401078       664368.45        0             0              1           0   \n",
       "1454738      1970354.64        0             0              1           0   \n",
       "5319891       199114.60        0             0              1           0   \n",
       "1159390       473033.77        0             1              0           0   \n",
       "\n",
       "         type_PAYMENT  type_TRANSFER  \n",
       "980473              0              0  \n",
       "1401078             0              0  \n",
       "1454738             0              0  \n",
       "5319891             0              0  \n",
       "1159390             0              0  "
      ]
     },
     "execution_count": 21,
     "metadata": {},
     "output_type": "execute_result"
    }
   ],
   "source": [
    "sample_dummy = pd.get_dummies(fraud_sample)\n",
    "sample_dummy.head()"
   ]
  },
  {
   "cell_type": "code",
   "execution_count": 22,
   "metadata": {},
   "outputs": [
    {
     "data": {
      "text/plain": [
       "(100000, 12)"
      ]
     },
     "execution_count": 22,
     "metadata": {},
     "output_type": "execute_result"
    }
   ],
   "source": [
    "sample_dummy.shape"
   ]
  },
  {
   "cell_type": "markdown",
   "metadata": {},
   "source": [
    "### Run a logisitc regression classifier and evaluate its accuracy."
   ]
  },
  {
   "cell_type": "code",
   "execution_count": 23,
   "metadata": {},
   "outputs": [
    {
     "data": {
      "image/png": "[encoded data removed]",
      "text/plain": [
       "<Figure size 792x648 with 2 Axes>"
      ]
     },
     "metadata": {},
     "output_type": "display_data"
    }
   ],
   "source": [
    "#In order to implement the model, I will see the features that are important or not, evaluating their correlation:\n",
    "\n",
    "# check with multilinear\n",
    "corr = sample_dummy.corr(method='spearman')\n",
    "\n",
    "sns.set(style=\"white\")\n",
    "\n",
    "# Generate a mask for the upper triangle\n",
    "mask = np.triu(np.ones_like(corr, dtype=np.bool))\n",
    "\n",
    "# Set up the matplotlib figure\n",
    "f, ax = plt.subplots(figsize=(11, 9))\n",
    "\n",
    "# Generate a custom diverging colormap\n",
    "cmap = sns.diverging_palette(200, 15, as_cmap = True)\n",
    "\n",
    "# annot=True so as to show the value\n",
    "# Draw the heatmap with the mask and correct aspect ratio\n",
    "# vmin=-1, vmax=1 gets the whole scale\n",
    "sns.heatmap(corr, mask=mask, cmap=cmap, vmin=-1, vmax=1, center=0,\n",
    "             square=True, annot=True, linewidths=.5, cbar_kws={\"shrink\": .5})\n",
    "\n",
    "plt.show()\n",
    "\n"
   ]
  },
  {
   "cell_type": "code",
   "execution_count": 24,
   "metadata": {},
   "outputs": [],
   "source": [
    "#Judging by the heatmap, I will drop newblalanceOrig, newbalanceDest, ddbalanceDest, type_CASH_IN and type_PAYMENT:\n",
    "\n",
    "sample_dummy = sample_dummy.drop(['newbalanceOrig', 'newbalanceDest', 'oldbalanceDest', 'type_CASH_IN', 'type_PAYMENT'], axis = 1)"
   ]
  },
  {
   "cell_type": "code",
   "execution_count": 25,
   "metadata": {},
   "outputs": [
    {
     "data": {
      "image/png": "[encoded data removed]",
      "text/plain": [
       "<Figure size 792x648 with 2 Axes>"
      ]
     },
     "metadata": {},
     "output_type": "display_data"
    }
   ],
   "source": [
    "# check with multilinear\n",
    "corr = sample_dummy.corr(method='spearman')\n",
    "\n",
    "sns.set(style=\"white\")\n",
    "\n",
    "# Generate a mask for the upper triangle\n",
    "mask = np.triu(np.ones_like(corr, dtype=np.bool))\n",
    "\n",
    "# Set up the matplotlib figure\n",
    "f, ax = plt.subplots(figsize=(11, 9))\n",
    "\n",
    "# Generate a custom diverging colormap\n",
    "cmap = sns.diverging_palette(200, 15, as_cmap = True)\n",
    "\n",
    "# annot=True so as to show the value\n",
    "# Draw the heatmap with the mask and correct aspect ratio\n",
    "# vmin=-1, vmax=1 gets the whole scale\n",
    "sns.heatmap(corr, mask=mask, cmap=cmap, vmin=-1, vmax=1, center=0,\n",
    "             square=True, annot=True, linewidths=.5, cbar_kws={\"shrink\": .5})\n",
    "\n",
    "plt.show()\n"
   ]
  },
  {
   "cell_type": "code",
   "execution_count": 26,
   "metadata": {},
   "outputs": [],
   "source": [
    "from sklearn.model_selection import train_test_split\n",
    "\n",
    "X = sample_dummy.drop(['isFraud'], axis = 1) # features\n",
    "y = sample_dummy['isFraud'] # label\n",
    "\n",
    "# splitting the data to train and test\n",
    "X_train, X_test, y_train, y_test = train_test_split(X, y, test_size = 0.2, random_state = 0)"
   ]
  },
  {
   "cell_type": "code",
   "execution_count": 27,
   "metadata": {},
   "outputs": [
    {
     "data": {
      "text/plain": [
       "(80000, 6)"
      ]
     },
     "execution_count": 27,
     "metadata": {},
     "output_type": "execute_result"
    }
   ],
   "source": [
    "X_train.shape"
   ]
  },
  {
   "cell_type": "code",
   "execution_count": 28,
   "metadata": {},
   "outputs": [
    {
     "name": "stdout",
     "output_type": "stream",
     "text": [
      "Confusion matrix\n",
      "[[19973    27]\n",
      " [    0     0]]\n",
      "-------------------------------------------------------\n",
      "Accuracy score\n",
      "0.99865\n",
      "-------------------------------------------------------\n",
      "Classification report\n",
      "              precision    recall  f1-score   support\n",
      "\n",
      "           0       1.00      1.00      1.00     20000\n",
      "           1       0.00      0.00      0.00         0\n",
      "\n",
      "    accuracy                           1.00     20000\n",
      "   macro avg       0.50      0.50      0.50     20000\n",
      "weighted avg       1.00      1.00      1.00     20000\n",
      "\n"
     ]
    },
    {
     "name": "stderr",
     "output_type": "stream",
     "text": [
      "C:\\Users\\joanr\\anaconda3\\lib\\site-packages\\sklearn\\metrics\\_classification.py:1221: UndefinedMetricWarning: Recall and F-score are ill-defined and being set to 0.0 in labels with no true samples. Use `zero_division` parameter to control this behavior.\n",
      "  _warn_prf(average, modifier, msg_start, len(result))\n"
     ]
    }
   ],
   "source": [
    "from sklearn.linear_model import LogisticRegression\n",
    "from sklearn.metrics import confusion_matrix, accuracy_score, classification_report\n",
    "\n",
    "# Initializing the model:\n",
    "model = LogisticRegression(max_iter=1000)\n",
    "\n",
    "# max_iter = 2000 above avoids error message (max number of interations reached)\n",
    "# if the max number of interations is reached, we may not reach the best model\n",
    "\n",
    "#Fitting the model\n",
    "model.fit(X_train, y_train)\n",
    "\n",
    "#predictions: test data\n",
    "y_pred = model.predict(X_test)\n",
    "\n",
    "# compare predictions to actual answers\n",
    "print('Confusion matrix')\n",
    "print(confusion_matrix(y_pred,y_test))\n",
    "print('-------------------------------------------------------')\n",
    "\n",
    "# accuracy_score\n",
    "# fitted X_test data vs. y_test data (actual answer)\n",
    "print('Accuracy score')\n",
    "print(accuracy_score(y_pred,y_test))\n",
    "\n",
    "print('-------------------------------------------------------')\n",
    "# classification report\n",
    "print('Classification report')\n",
    "print(classification_report(y_pred,y_test))"
   ]
  },
  {
   "cell_type": "markdown",
   "metadata": {},
   "source": [
    "### Now pick a model of your choice and evaluate its accuracy."
   ]
  },
  {
   "cell_type": "code",
   "execution_count": 29,
   "metadata": {},
   "outputs": [
    {
     "name": "stdout",
     "output_type": "stream",
     "text": [
      "Confusion matrix\n",
      "[[19952    14]\n",
      " [   21    13]]\n",
      "-------------------------------------------------------\n",
      "Accuracy score\n",
      "0.99825\n",
      "-------------------------------------------------------\n",
      "Classification report\n",
      "              precision    recall  f1-score   support\n",
      "\n",
      "           0       1.00      1.00      1.00     19966\n",
      "           1       0.48      0.38      0.43        34\n",
      "\n",
      "    accuracy                           1.00     20000\n",
      "   macro avg       0.74      0.69      0.71     20000\n",
      "weighted avg       1.00      1.00      1.00     20000\n",
      "\n"
     ]
    }
   ],
   "source": [
    "# I will pick a decision tree, and also a random forest, to compare both models:\n",
    "\n",
    "#Decision tree:\n",
    "from sklearn.tree import DecisionTreeClassifier\n",
    "\n",
    "# create instance of the model\n",
    "dtc = DecisionTreeClassifier()\n",
    "\n",
    "# train the model\n",
    "dtc.fit(X_train, y_train)\n",
    "\n",
    "#predictions: test data\n",
    "y_pred = dtc.predict(X_test)\n",
    "\n",
    "# compare predictions to actual answers\n",
    "print('Confusion matrix')\n",
    "print(confusion_matrix(y_pred,y_test))\n",
    "print('-------------------------------------------------------')\n",
    "\n",
    "# accuracy_score\n",
    "# fitted X_test data vs. y_test data (actual answer)\n",
    "print('Accuracy score')\n",
    "print(accuracy_score(y_pred,y_test))\n",
    "\n",
    "print('-------------------------------------------------------')\n",
    "# classification report\n",
    "print('Classification report')\n",
    "print(classification_report(y_pred,y_test))"
   ]
  },
  {
   "cell_type": "code",
   "execution_count": 30,
   "metadata": {},
   "outputs": [
    {
     "name": "stdout",
     "output_type": "stream",
     "text": [
      "Confusion matrix\n",
      "[[19972    15]\n",
      " [    1    12]]\n",
      "-------------------------------------------------------\n",
      "Accuracy score\n",
      "0.9992\n",
      "-------------------------------------------------------\n",
      "Classification report\n",
      "              precision    recall  f1-score   support\n",
      "\n",
      "           0       1.00      1.00      1.00     19987\n",
      "           1       0.44      0.92      0.60        13\n",
      "\n",
      "    accuracy                           1.00     20000\n",
      "   macro avg       0.72      0.96      0.80     20000\n",
      "weighted avg       1.00      1.00      1.00     20000\n",
      "\n"
     ]
    }
   ],
   "source": [
    "# Random forest:\n",
    "\n",
    "from sklearn.ensemble import RandomForestClassifier\n",
    "\n",
    "# create an instance of the model\n",
    "forest = RandomForestClassifier()\n",
    "\n",
    "# fit the model\n",
    "forest.fit(X_train, y_train)\n",
    "\n",
    "# predict for test \n",
    "y_pred = forest.predict(X_test)\n",
    "\n",
    "# compare predictions to actual answers\n",
    "print('Confusion matrix')\n",
    "print(confusion_matrix(y_pred,y_test))\n",
    "print('-------------------------------------------------------')\n",
    "\n",
    "# accuracy_score\n",
    "# fitted X_test data vs. y_test data (actual answers)\n",
    "print('Accuracy score')\n",
    "print(forest.score(X_test,y_test))\n",
    "#print(accuracy_score(y_pred,y_test)) does the exact same thing as forest.score(X_test,y_test)\n",
    "print('-------------------------------------------------------')\n",
    "\n",
    "# classification report\n",
    "print('Classification report')\n",
    "print(classification_report(y_pred,y_test)) \n",
    "\n",
    "# https://medium.com/analytics-vidhya/evaluating-a-random-forest-model-9d165595ad56"
   ]
  },
  {
   "cell_type": "markdown",
   "metadata": {},
   "source": [
    "### Which model worked better and how do you know?"
   ]
  },
  {
   "cell_type": "code",
   "execution_count": 18,
   "metadata": {},
   "outputs": [],
   "source": [
    "'''\n",
    "First of all, the most important parameter in detecting fraud, is the recall. We also have to consider the class imbalance\n",
    "in this class, which is very high (we may consider oversampling or undersampling to see compare results), it was this class\n",
    "imbalance that probably led to the overfit. The decision tree and random forest both give a decent/good recall of 0.70 and 0.92,\n",
    "which means we catched 70% and 92% of the frauds, respectively. Therefore, the random forest is best model.\n",
    "'''"
   ]
  },
  {
   "cell_type": "markdown",
   "metadata": {},
   "source": [
    "### Note: before doing the first commit, make sure you don't include the large csv file, either by adding it to .gitignore, or by deleting it."
   ]
  }
 ],
 "metadata": {
  "kernelspec": {
   "display_name": "Python 3",
   "language": "python",
   "name": "python3"
  },
  "language_info": {
   "codemirror_mode": {
    "name": "ipython",
    "version": 3
   },
   "file_extension": ".py",
   "mimetype": "text/x-python",
   "name": "python",
   "nbconvert_exporter": "python",
   "pygments_lexer": "ipython3",
   "version": "3.7.6"
  }
 },
 "nbformat": 4,
 "nbformat_minor": 2
}
